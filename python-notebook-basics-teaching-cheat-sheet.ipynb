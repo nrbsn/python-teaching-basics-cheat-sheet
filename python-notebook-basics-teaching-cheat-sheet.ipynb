{
 "cells": [
  {
   "cell_type": "markdown",
   "metadata": {},
   "source": [
    "# Jupyter Notebook\n",
    "\n",
    "In this notebook, I will be demonstrating python code segments that you can use as a cheat sheet for your studies"
   ]
  },
  {
   "cell_type": "markdown",
   "metadata": {},
   "source": [
    "## Python Basics - Creating and Printing Basic Variable Sets"
   ]
  },
  {
   "cell_type": "markdown",
   "metadata": {},
   "source": [
    "In this section, I will demonstrate a short section of how to use basic numeric variables. \n",
    "\n",
    "In computer programming, a variable is a storage location paired with an associated name. \n",
    "\n",
    "This section will cover:\n",
    "- variable assignment\n",
    "- printing \n",
    "- operations (addition, subtraction, division, multiplication) \n",
    "- changing format \n",
    "- checking type \n",
    "- overcoming basic errors related to variables\n",
    "\n",
    "### Integers - Create, Format, Change"
   ]
  },
  {
   "cell_type": "code",
   "execution_count": 1,
   "metadata": {},
   "outputs": [],
   "source": [
    "x = 7 #we have assigned our first variable\n",
    "y = 6\n",
    "z = '3'\n",
    "xxx = 7.777\n",
    "yyy = 6.666"
   ]
  },
  {
   "cell_type": "code",
   "execution_count": 2,
   "metadata": {},
   "outputs": [
    {
     "name": "stdout",
     "output_type": "stream",
     "text": [
      "7 6\n",
      "13\n",
      "1.1666666666666667\n",
      "42\n",
      "117649\n",
      "1\n"
     ]
    }
   ],
   "source": [
    "print(x, y) #display\n",
    "print(x + y) #add\n",
    "print(x / y) #divide\n",
    "print(x * y) #multiply\n",
    "print(x ** y) #expontential\n",
    "print(x // y) #floor division"
   ]
  },
  {
   "cell_type": "code",
   "execution_count": 3,
   "metadata": {},
   "outputs": [
    {
     "name": "stdout",
     "output_type": "stream",
     "text": [
      "7\n",
      "6.0\n",
      "<class 'int'>\n",
      "<class 'float'>\n"
     ]
    }
   ],
   "source": [
    "print(int(xxx)) #turn 7.777 into integer \n",
    "print(float(y)) #turn integer 6 into float\n",
    "print(type(x)) #check type\n",
    "print(type(yyy)) #check type"
   ]
  },
  {
   "cell_type": "markdown",
   "metadata": {},
   "source": [
    "#### Lesson 1.1 - Common errors and how to fix them\n",
    "\n",
    "``print(x + q)`` #NameError: name 'q' is not defined - Check if you have defined this variable earlier as something else\n",
    "\n",
    "``print(x + z)`` #TypeError: unsupported operand type(s) for +: 'int' and 'str'' - Change both to a consistent type \n",
    "\n",
    "``print(x + y`` #SyntaxError: unexpected EOF while parsing - You might be missing part of your code to complete the action\n",
    "\n",
    "``print[x + y]`` #TypeError: 'builtin_function_or_method' object is not subscriptable - Not a container such as lists, tuples, and dictionaries "
   ]
  },
  {
   "cell_type": "markdown",
   "metadata": {},
   "source": [
    "#### Solved problems"
   ]
  },
  {
   "cell_type": "code",
   "execution_count": 4,
   "metadata": {},
   "outputs": [
    {
     "name": "stdout",
     "output_type": "stream",
     "text": [
      "13\n",
      "10\n",
      "13\n",
      "13\n"
     ]
    }
   ],
   "source": [
    "print(x + y) #NameError: name 'q' is not defined - Check if you have defined this variable earlier as something else  \n",
    "print(x + int(z)) #TypeError: unsupported operand type(s) for +: 'int' and 'str'' - Change both to the same type \n",
    "print(x + y) #SyntaxError: unexpected EOF while parsing - You might be missing part of your code to complete the action \n",
    "print(x + y) #TypeError: 'builtin_function_or_method' object is not subscriptable - Not a container such as lists, tuples, and dictionaries "
   ]
  },
  {
   "cell_type": "markdown",
   "metadata": {},
   "source": [
    "#### PYTHON CHALLENGE: BASIC CALCULATOR "
   ]
  },
  {
   "cell_type": "code",
   "execution_count": 5,
   "metadata": {},
   "outputs": [
    {
     "name": "stdout",
     "output_type": "stream",
     "text": [
      "9\n",
      "90\n",
      "15\n",
      "5.0\n"
     ]
    }
   ],
   "source": [
    "def calcadd(x, y):\n",
    "    calcadd = x + y\n",
    "    print(calcadd)\n",
    "    \n",
    "def calcsub(x, y):\n",
    "    calcsub = x - y\n",
    "    print(calcsub)\n",
    "\n",
    "def calcmulti(x, y):\n",
    "    calcmulti = x * y\n",
    "    print(calcmulti)\n",
    "\n",
    "def calcdivide(x, y):\n",
    "    calcdivide = x / y\n",
    "    print(calcdivide)\n",
    "    \n",
    "calcadd(7,2)\n",
    "calcsub(100,10)\n",
    "calcmulti(5,3)\n",
    "calcdivide(10,2) "
   ]
  },
  {
   "cell_type": "markdown",
   "metadata": {},
   "source": [
    "### Strings - Create, Format, Change\n",
    "\n",
    "In this section, I will demonstrate a short section of how to use strings. \n",
    "\n",
    "This section will cover:\n",
    "- basic string commands such as printing strings\n",
    "- slicing\n",
    "- indexing, length of strings\n",
    "- replace, splitting\n",
    "- changing case formatting\n",
    "- stripping blank space\n"
   ]
  },
  {
   "cell_type": "code",
   "execution_count": null,
   "metadata": {},
   "outputs": [],
   "source": [
    "str1 = 'python code'\n",
    "str2 = 'is easy to use'"
   ]
  },
  {
   "cell_type": "code",
   "execution_count": null,
   "metadata": {},
   "outputs": [],
   "source": [
    "print(str1)\n",
    "print(str1 * 2) #multiply string occurance\n",
    "print(len(str1)) #length of strin"
   ]
  },
  {
   "cell_type": "code",
   "execution_count": null,
   "metadata": {},
   "outputs": [],
   "source": [
    "print(str1[2]) #forward count\n",
    "print(str1[-2]) #backward count\n",
    "print(str1[0:6]) #display part of a string"
   ]
  },
  {
   "cell_type": "code",
   "execution_count": null,
   "metadata": {},
   "outputs": [],
   "source": [
    "print(str1 + str2) #concatenate strings\n",
    "print(str1 +' '+ str2) #add a space\n",
    "print(str1, str2 + ' after some practice') #add variables and string"
   ]
  },
  {
   "cell_type": "code",
   "execution_count": null,
   "metadata": {},
   "outputs": [],
   "source": [
    "str3 = 'clearing space   ' \n",
    "str4 = 'LOW CASE'\n",
    "str5 = 'high case'\n",
    "str6 = 'list:seperated:at:colon'"
   ]
  },
  {
   "cell_type": "code",
   "execution_count": null,
   "metadata": {},
   "outputs": [],
   "source": [
    "print(str1.split()) #split up the string by finding a seperator\n",
    "print(str1 + ' ' + str2.replace(\"easy\", \"hard\")) #replace the word easy with hard\n",
    "print(str3.strip()) #clear space at end of string\n",
    "print(str3.swapcase()) #converts the other case level"
   ]
  },
  {
   "cell_type": "code",
   "execution_count": null,
   "metadata": {
    "scrolled": true
   },
   "outputs": [],
   "source": [
    "print(str4.lower()) #change to lower\n",
    "print(str5.upper()) #change to upper\n",
    "print(str6.title()) #changes first character of each word to an upper characte\n",
    "print(str6.split(\":\")) #split using a specific character"
   ]
  },
  {
   "cell_type": "markdown",
   "metadata": {},
   "source": [
    "#### Common errors and how to fix them\n",
    "\n",
    "``print(str1(2))`` #TypeError: 'str' object is not callable - Functions are callable, strings are not\n",
    "\n",
    "``print(st1)`` #NameError: name 'st1' is not defined - Check the variable name is correct and that you have run the piece of code that defined this variable\n",
    "\n",
    "``print(st1[10])`` #IndexError: string index out of range - Adjust index number based on string length to avoid out of range\n",
    "\n",
    "``print(str1.strip)`` #<built-in method strip of str object at 0x0000020EB66F8970> - Check parentheses and run as a function - Stored as a method instead of running as a function"
   ]
  },
  {
   "cell_type": "markdown",
   "metadata": {},
   "source": [
    "#### Solved problems"
   ]
  },
  {
   "cell_type": "code",
   "execution_count": null,
   "metadata": {},
   "outputs": [],
   "source": [
    "print(str1[2]) #TypeError: 'str' object is not callable - Functions are callable, strings are not\n",
    "print(str1[10]) #IndexError: string index out of range - Adjust index number based on string length to avoid out of range\n",
    "print(str1) #NameError: name 'st1' is not defined - Check the variable name is correct and that you have run the piece of code that defined this variable \n",
    "print(str1.strip()) #<built-in method strip of str object at 0x0000020EB66F8970> - Check parenthesis and run as function - Stored as a method instead of running as a function"
   ]
  },
  {
   "cell_type": "markdown",
   "metadata": {},
   "source": [
    "### Boolean\n",
    "\n",
    "In this section, I will demonstrate the use of Boolean code segments. \n",
    "A Boolean data type is a data type with only two possible values: True or False."
   ]
  },
  {
   "cell_type": "code",
   "execution_count": null,
   "metadata": {},
   "outputs": [],
   "source": [
    "boolean1 = 7\n",
    "boolean2 = 9\n",
    "boolean3 = 7\n",
    "boolean4 = 21\n",
    "boolean5 = 'string text'"
   ]
  },
  {
   "cell_type": "markdown",
   "metadata": {},
   "source": [
    "= is for variable assignment\n",
    "<br>\n",
    "== is for condition checking / comparisons"
   ]
  },
  {
   "cell_type": "code",
   "execution_count": null,
   "metadata": {},
   "outputs": [],
   "source": [
    "print(boolean1 == boolean2) #False\n",
    "print(boolean1 == boolean3) #True\n",
    "print(boolean5.startswith('s')) #True\n",
    "print(boolean5.endswith('t')) #True\n",
    "print(boolean5.endswith('x')) #False"
   ]
  },
  {
   "cell_type": "code",
   "execution_count": null,
   "metadata": {},
   "outputs": [],
   "source": [
    "print(boolean1 < boolean2) #True\n",
    "print(boolean1 > boolean2) #False\n",
    "print(3 == 3) #True\n",
    "print(7 != 2) #True\n",
    "print(10 < 2 * 2) #False"
   ]
  },
  {
   "cell_type": "markdown",
   "metadata": {},
   "source": [
    "### Lists - Create, Format, Change\n",
    "\n",
    "In this section, I will demonstrate how to use lists. The simplest data structure in Python and it is used to store a list of values. Lists are collections of items (strings, integers, or even other lists).\n",
    "\n",
    "- Each item in the list has an assigned index value.\n",
    "\n",
    "- Lists are enclosed in [ ]\n",
    "\n",
    "- Each item in a list is separated by a comma\n",
    "\n",
    "- Lists are mutable, which means they can be changed."
   ]
  },
  {
   "cell_type": "code",
   "execution_count": null,
   "metadata": {},
   "outputs": [],
   "source": [
    "emptylist = [ ] #an empty list is created using just square brackets\n",
    "listone = ['item1', 'item2', 'item3', 'item4', 'item5'] #a string list\n",
    "listtwo = [1, 2, 3, 4, 5] #a number list\n",
    "listthree = [1, 'one', 2, 'two'] #a mixed list \n",
    "listfour = ['orange', 'red', 'blue', 'green']"
   ]
  },
  {
   "cell_type": "code",
   "execution_count": null,
   "metadata": {},
   "outputs": [],
   "source": [
    "print(len(emptylist)) #length of a list without items in it \n",
    "print(len(listone)) #length of a list with items in it\n",
    "print(listone[0]) #retrieve the first element\n",
    "print(listone[-1]) #retrieve the last element"
   ]
  },
  {
   "cell_type": "code",
   "execution_count": null,
   "metadata": {},
   "outputs": [],
   "source": [
    "print(listtwo)\n",
    "listtwo.append(6) #add an item to the end of the list \n",
    "print(listtwo)\n",
    "\n",
    "#The more you run this code, the more it will add numbers to the lists"
   ]
  },
  {
   "cell_type": "code",
   "execution_count": null,
   "metadata": {},
   "outputs": [],
   "source": [
    "print(listthree)\n",
    "listthree.insert(4, 'Three') #insert an item. first item is the place index, and the second is the list item\n",
    "print(listthree)\n",
    "\n",
    "#The more you run this code, the more it will add numbers to the lists"
   ]
  },
  {
   "cell_type": "code",
   "execution_count": null,
   "metadata": {},
   "outputs": [],
   "source": [
    "print(listthree)\n",
    "listthree.remove('two')\n",
    "print(listthree)"
   ]
  },
  {
   "cell_type": "code",
   "execution_count": null,
   "metadata": {},
   "outputs": [],
   "source": [
    "listone.extend(listtwo) #join two lists together\n",
    "print(listone)"
   ]
  },
  {
   "cell_type": "code",
   "execution_count": null,
   "metadata": {},
   "outputs": [],
   "source": [
    "del listthree[3] #delete item from list three in position [3]\n",
    "print(listthree)\n",
    "\n",
    "listthree.reverse() #reverse the order of the list \n",
    "print(listthree)\n",
    "\n",
    "listtwo.sort() #sort the list \n",
    "print(listtwo)"
   ]
  },
  {
   "cell_type": "code",
   "execution_count": null,
   "metadata": {},
   "outputs": [],
   "source": [
    "print(listfour)\n",
    "listfour[0] = 'black' #change the first item 'red' to 'black'\n",
    "print(listfour)"
   ]
  },
  {
   "cell_type": "markdown",
   "metadata": {},
   "source": [
    "#### Common errors and how to fix them\n",
    "\n",
    "``listtwo.append(5, 6)`` #TypeError: append() takes exactly one argument (2 given) - you can only append one item at a time\n",
    "\n",
    "``listthree.sort()`` #TypeError: '<' not supported between instances of 'int' and 'str' - you are not able to sort a list with strings inside it "
   ]
  },
  {
   "cell_type": "markdown",
   "metadata": {},
   "source": [
    "### Tuples\n",
    "\n",
    "In this section, I will demonstrate how to use tuples. A tuple is a list that cannot be changed once it has been defined. They are designated by parentheses instead of square brackets. "
   ]
  },
  {
   "cell_type": "code",
   "execution_count": null,
   "metadata": {},
   "outputs": [],
   "source": [
    "importantdimensions = (500, 550) #create a tuple\n",
    "for value in importantdimensions: #print values from a tuple using a for loop\n",
    "    print(value)"
   ]
  },
  {
   "cell_type": "markdown",
   "metadata": {},
   "source": [
    "#### Common errors and how to fix them\n",
    "\n",
    "``importantdimensions[0] = (200)`` #TypeError: 'tuple' object does not support item assignment. A tuple is a list that cannot be changed once it has been defined. \n",
    "\n",
    "``importantdimensions.append(750)`` #AttributeError: 'tuple' object has no attribute 'append' - A tuple is not a list. You cannot use the .append list command on a tuple. "
   ]
  },
  {
   "cell_type": "markdown",
   "metadata": {},
   "source": [
    "### Dictionaries\n",
    "\n",
    "A dictionary is a collection which is unordered, changeable and indexed. In Python dictionaries are written with curly brackets, and they have keys and values."
   ]
  },
  {
   "cell_type": "code",
   "execution_count": null,
   "metadata": {},
   "outputs": [],
   "source": [
    "myfirstdictionary = {\"course\": \"compsci\", \"unit code\": \"101\"}\n",
    "print(myfirstdictionary)"
   ]
  },
  {
   "cell_type": "code",
   "execution_count": null,
   "metadata": {},
   "outputs": [],
   "source": [
    "print(myfirstdictionary.get('course')) #return the value of the specified key\n",
    "print(myfirstdictionary.items()) #returns a list containing a tuple for each key value pair\n",
    "print(myfirstdictionary.keys()) #return a list with keys only\n",
    "print(myfirstdictionary.values()) #return a list with values only"
   ]
  },
  {
   "cell_type": "markdown",
   "metadata": {},
   "source": [
    "You cannot copy a dictionary simply by typing dictionary1 = dictionary2, because dictionary1 will only be a reference to dictionary2, and changes made in dictionary1 will automatically also be made in dictionary2."
   ]
  },
  {
   "cell_type": "code",
   "execution_count": null,
   "metadata": {},
   "outputs": [],
   "source": [
    "seconddictionary = myfirstdictionary.copy()\n",
    "seconddictionary['course'] = 'business'\n",
    "seconddictionary['unit code'] = '303'\n",
    "print(myfirstdictionary)\n",
    "print(seconddictionary)"
   ]
  },
  {
   "cell_type": "code",
   "execution_count": null,
   "metadata": {},
   "outputs": [],
   "source": [
    "myfirstdictionary['tutor'] = 'nicole robinson'\n",
    "print(myfirstdictionary)"
   ]
  },
  {
   "cell_type": "code",
   "execution_count": null,
   "metadata": {},
   "outputs": [],
   "source": [
    "#a different way to make a dictionary\n",
    "thirddictionary = dict(colour='red', texture='soft', cost='$2') \n",
    "print(thirddictionary)"
   ]
  },
  {
   "cell_type": "markdown",
   "metadata": {},
   "source": [
    "#### PYTHON SIDENOTE - TRY OUT TURTLEBOT"
   ]
  },
  {
   "cell_type": "code",
   "execution_count": 11,
   "metadata": {},
   "outputs": [],
   "source": [
    "from turtle import *\n",
    "\n",
    "forward(100)\n",
    "left(90)\n",
    "forward(100)\n",
    "left(90)\n",
    "forward(100)\n",
    "left(90)\n",
    "forward(100)"
   ]
  },
  {
   "cell_type": "code",
   "execution_count": 3,
   "metadata": {},
   "outputs": [],
   "source": [
    "from turtle import #Flower \n",
    "\n",
    "for i in range(100): \n",
    "    forward(i)\n",
    "    left(100)"
   ]
  },
  {
   "cell_type": "code",
   "execution_count": 5,
   "metadata": {},
   "outputs": [],
   "source": [
    "from turtle import * #Spiral Shell / Heptagon\n",
    "\n",
    "for i in range(400): \n",
    "    forward(i)\n",
    "    left(100)\n",
    "    right(50)"
   ]
  },
  {
   "cell_type": "code",
   "execution_count": 12,
   "metadata": {},
   "outputs": [],
   "source": [
    "from turtle import *\n",
    "colors = ['red', 'orange', 'yellow', 'green', 'blue', 'indigo', 'violet']\n",
    "for i in range(200):\n",
    "    pencolor(colors[i % 6])\n",
    "    width(2)\n",
    "    forward(i)\n",
    "    left(80)"
   ]
  }
 ],
 "metadata": {
  "kernelspec": {
   "display_name": "Python 3",
   "language": "python",
   "name": "python3"
  },
  "language_info": {
   "codemirror_mode": {
    "name": "ipython",
    "version": 3
   },
   "file_extension": ".py",
   "mimetype": "text/x-python",
   "name": "python",
   "nbconvert_exporter": "python",
   "pygments_lexer": "ipython3",
   "version": "3.7.3"
  }
 },
 "nbformat": 4,
 "nbformat_minor": 2
}
